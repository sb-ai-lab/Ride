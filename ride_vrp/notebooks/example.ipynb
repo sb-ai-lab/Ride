{
 "cells": [
  {
   "cell_type": "markdown",
   "source": [
    "# Ноутбук с примером работы для грузов с реальными позициями (из 2gis)"
   ],
   "metadata": {
    "collapsed": false
   },
   "id": "a07fd968f7c02b5e"
  },
  {
   "cell_type": "code",
   "outputs": [],
   "source": [
    "import sys\n",
    "sys.path.append('../')"
   ],
   "metadata": {
    "collapsed": false
   },
   "id": "a85c07bc7f56f3bc",
   "execution_count": null
  },
  {
   "cell_type": "code",
   "outputs": [],
   "source": [
    "import datetime\n",
    "import random\n",
    "\n",
    "import folium\n",
    "import pandas as pd\n",
    "from itertools import groupby\n",
    "from scripts.cargo_delivery import delivery, PathBuildingResult\n",
    "from scripts.data_model import Cargo, Tariff, TariffCost\n"
   ],
   "metadata": {
    "collapsed": false
   },
   "id": "4a51041cdc741e75",
   "execution_count": null
  },
  {
   "cell_type": "markdown",
   "source": [
    "Загрузка и валидация данных (грузы только между двумя точками)"
   ],
   "metadata": {
    "collapsed": false
   },
   "id": "cb499fe2310a1f28"
  },
  {
   "cell_type": "code",
   "outputs": [],
   "source": [
    "df_mos = pd.read_excel('../data/05_Грузы (только 2 точки) 2025-04-07.xlsx')\n",
    "df_cpy = df_mos"
   ],
   "metadata": {
    "collapsed": false
   },
   "id": "ca561c76370b0066",
   "execution_count": null
  },
  {
   "cell_type": "code",
   "outputs": [],
   "source": [
    "df_cpy['Кол-во заявок по ручному ID (со схожей датой сбора и городами доставки и отправления)'].unique()"
   ],
   "metadata": {
    "collapsed": false
   },
   "id": "d89ac135100f09cf",
   "execution_count": null
  },
  {
   "cell_type": "code",
   "outputs": [],
   "source": [
    "df_mos = df_cpy[df_cpy['Кол-во заявок по ручному ID (со схожей датой сбора и городами доставки и отправления)'] == 108]\n",
    "df_mos = df_mos[df_mos['Количество точек'] == 2]"
   ],
   "metadata": {
    "collapsed": false
   },
   "id": "b6260dcfb6de666d",
   "execution_count": null
  },
  {
   "cell_type": "markdown",
   "source": [
    "Вытаскиваем характеристики по массе объему по разным машинам"
   ],
   "metadata": {
    "collapsed": false
   },
   "id": "ebbd38430ccce3ab"
  },
  {
   "cell_type": "code",
   "outputs": [],
   "source": [
    "cars_df = pd.read_excel('../data/Автомобили Логистика.xlsx', sheet_name='Лист2')\n",
    "cars_df = cars_df[cars_df['Категория груза'] == 'Обычные']\n",
    "car_name_to_mass_volume = {r['Наименование автомобиля']: (r['Грузоподъемность, (кг)'], r['Объем, (м³)']) for _, r in\n",
    "                           cars_df.iterrows() if\n",
    "                           'миксер' not in r['Наименование автомобиля'] and r['Грузоподъемность, (кг)'] <= 10000}\n",
    "del cars_df"
   ],
   "metadata": {
    "collapsed": false
   },
   "id": "c5fefb6513d1aa36",
   "execution_count": null
  },
  {
   "cell_type": "code",
   "outputs": [],
   "source": [
    "car_name_to_mass_volume"
   ],
   "metadata": {
    "collapsed": false
   },
   "id": "b373471687773294",
   "execution_count": null
  },
  {
   "cell_type": "markdown",
   "source": [
    "Вытасуиваем тарифы"
   ],
   "metadata": {
    "collapsed": false
   },
   "id": "dfca1ada05bd3fac"
  },
  {
   "cell_type": "code",
   "outputs": [],
   "source": [
    "cost_df = pd.read_excel('../data/Тарифы Логистика.xlsx')\n",
    "cost_df = cost_df[cost_df.apply(lambda r: 'Москва' in r['Регион'] and 'и' not in r['Регион'], axis=1)]"
   ],
   "metadata": {
    "collapsed": false
   },
   "id": "bef92832fae1ba5b",
   "execution_count": null
  },
  {
   "cell_type": "code",
   "outputs": [],
   "source": [
    "tariffs: list[Tariff] = []\n",
    "\n",
    "for _, r in cost_df.iterrows():\n",
    "    if r['Автомобиль'] not in car_name_to_mass_volume:\n",
    "        continue\n",
    "    tariffs.append(\n",
    "        Tariff(\n",
    "            id=r['Автомобиль'],\n",
    "            mass=car_name_to_mass_volume[r['Автомобиль']][0],\n",
    "            volume=car_name_to_mass_volume[r['Автомобиль']][1],\n",
    "            cost_per_distance=[\n",
    "                TariffCost(\n",
    "                    min_dst_km=0,\n",
    "                    max_dst_km=r['Минимальная поездка, км'],\n",
    "                    cost_per_km=0,\n",
    "                    fixed_cost=int(r['Стоимость мин. поездки, коп'] / 100)\n",
    "                ),\n",
    "                TariffCost(\n",
    "                    min_dst_km=r['Минимальная поездка, км'],\n",
    "                    max_dst_km=r['Максимальная протяженность маршрута, км'],\n",
    "                    cost_per_km=int(r['Стоимость за км'] / 100),\n",
    "                    fixed_cost=0\n",
    "                )\n",
    "            ])\n",
    "    )"
   ],
   "metadata": {
    "collapsed": false
   },
   "id": "3afb697998de4f4a",
   "execution_count": null
  },
  {
   "cell_type": "code",
   "outputs": [],
   "source": [
    "del cost_df"
   ],
   "metadata": {
    "collapsed": false
   },
   "id": "6dcba86a9f316b1d",
   "execution_count": null
  },
  {
   "cell_type": "code",
   "outputs": [],
   "source": [
    "tariffs"
   ],
   "metadata": {
    "collapsed": false
   },
   "id": "9c8c638f152a916",
   "execution_count": null
  },
  {
   "cell_type": "markdown",
   "source": [
    "Удаление дублей тарифов (опционально, просто в таблице много лишних дублей)"
   ],
   "metadata": {
    "collapsed": false
   },
   "id": "d8b5a2591640c8c2"
  },
  {
   "cell_type": "code",
   "outputs": [],
   "source": [
    "def key(t: Tariff):\n",
    "    return t.mass, t.volume\n",
    "\n",
    "\n",
    "new_tariffs = []\n",
    "for k, v in groupby(sorted(tariffs, key=key), key=key):\n",
    "    v = list(v)[0]\n",
    "    new_tariffs.append(v)\n",
    "tariffs = new_tariffs"
   ],
   "metadata": {
    "collapsed": false
   },
   "id": "883af567de451b06",
   "execution_count": null
  },
  {
   "cell_type": "code",
   "outputs": [],
   "source": [
    "len(tariffs)"
   ],
   "metadata": {
    "collapsed": false
   },
   "id": "de973ad782309a3e",
   "execution_count": null
  },
  {
   "cell_type": "markdown",
   "source": [
    "# Загрузка графа OSM"
   ],
   "metadata": {
    "collapsed": false
   },
   "id": "8db3cedc4b0ec642"
  },
  {
   "cell_type": "code",
   "outputs": [],
   "source": [
    "df_mos"
   ],
   "metadata": {
    "collapsed": false
   },
   "id": "b1b97944d24310c7",
   "execution_count": null
  },
  {
   "cell_type": "code",
   "outputs": [],
   "source": [
    "cargos: list[Cargo] = []\n",
    "\n",
    "\n",
    "def get_time(param):\n",
    "    param = str(param)\n",
    "    if len(param) > 10:\n",
    "        if '.' in param:\n",
    "            return datetime.datetime.strptime(param, '%d.%m.%Y %H:%M:%S')\n",
    "        else:\n",
    "            return datetime.datetime.strptime(param, '%Y-%m-%d %H:%M:%S')\n",
    "    else:\n",
    "        return datetime.datetime.strptime(param, '%Y-%m-%d')\n",
    "\n",
    "# парсим грузы из датафрейма\n",
    "for i, r in df_mos.iterrows():\n",
    "    \n",
    "    start_node = r['Адрес отправления']\n",
    "    end_node = r['Адрес назначения']\n",
    "    \n",
    "    mass = min(r['Вес, кг'], 100000)\n",
    "    volume = min(r['Объем, м3'], 10)\n",
    "    cm = r['ТРАНСПОРТ Грузоподъемность, (кг)']\n",
    "    cv = r['ТРАНСПОРТ Объем, (м³)']\n",
    "    d = Cargo(\n",
    "        id=r['Номер заявки'],\n",
    "        nodes=[start_node, end_node],\n",
    "        mass=[mass, -mass],\n",
    "        volume=[volume, -volume],\n",
    "        service_time_minutes=[15, 15]\n",
    "    )\n",
    "    cargos.append(d)"
   ],
   "metadata": {
    "collapsed": false
   },
   "id": "4fdf3447cf444e89",
   "execution_count": null
  },
  {
   "cell_type": "code",
   "outputs": [],
   "source": [
    "cargos[0]"
   ],
   "metadata": {
    "collapsed": false
   },
   "id": "f209e20c3ed7a517",
   "execution_count": null
  },
  {
   "cell_type": "code",
   "outputs": [],
   "source": [
    "tariffs[0]"
   ],
   "metadata": {
    "collapsed": false
   },
   "id": "ec5197253d3c3225",
   "execution_count": null
  },
  {
   "cell_type": "markdown",
   "source": [
    "# Основной запуск модели"
   ],
   "metadata": {
    "collapsed": false
   },
   "id": "40e70ee17bcd48fe"
  },
  {
   "cell_type": "code",
   "outputs": [],
   "source": [
    "result = delivery(\n",
    "    cargos,\n",
    "    tariffs\n",
    ")"
   ],
   "metadata": {
    "collapsed": false
   },
   "id": "99db84139bc00af",
   "execution_count": null
  },
  {
   "cell_type": "code",
   "outputs": [],
   "source": [
    "result.simple_routes"
   ],
   "metadata": {
    "collapsed": false
   },
   "id": "366c6c445261f36c",
   "execution_count": null
  },
  {
   "cell_type": "code",
   "outputs": [],
   "source": [
    "result.cargo_to_route"
   ],
   "metadata": {
    "collapsed": false
   },
   "id": "95697371f0788d07",
   "execution_count": null
  },
  {
   "cell_type": "code",
   "outputs": [],
   "source": [
    "len(cargos)"
   ],
   "metadata": {
    "collapsed": false
   },
   "id": "8c735d51787ac2b5",
   "execution_count": null
  },
  {
   "cell_type": "code",
   "outputs": [],
   "source": [
    "for route in result.routes:\n",
    "    print('________________________________________')\n",
    "    print(f\"car: {route.id} mass:{route.tariff.mass} volume: {route.tariff.volume}\")\n",
    "    max_mass = 1\n",
    "    max_volume = 1\n",
    "    print(f'mass: {max_mass}|{route.tariff.mass} == {max_mass / route.tariff.mass * 100:.2f}%')\n",
    "    print(f'volume: {max_volume:.2f}|{route.tariff.volume:.2f} == {max_volume / route.tariff.volume * 100:.2f}%')"
   ],
   "metadata": {
    "collapsed": false
   },
   "id": "f0f60c75e31da6d3",
   "execution_count": null
  },
  {
   "cell_type": "code",
   "outputs": [],
   "source": [
    "def draw_on_map(data: PathBuildingResult,\n",
    "                weight: float = 3.5,\n",
    "                ) -> folium.Map:\n",
    "    _g = data.cargo_graph\n",
    "    u = list(_g.nodes())[0]\n",
    "    u_x, u_y = _g.nodes()[u]['x'], _g.nodes()[u]['y']\n",
    "    m: folium.Map = folium.Map(\n",
    "        location=[u_x, u_y],\n",
    "        zoom_start=11,\n",
    "        tiles=\"cartodb positron\"\n",
    "    )  # Координаты города\n",
    "    coords = {\n",
    "    }\n",
    "\n",
    "    for i, route in enumerate(data.routes):\n",
    "        points_group = folium.FeatureGroup(name=f\"points_{i}_{route.tariff.id}\", show=False)\n",
    "        points_group.add_to(m)\n",
    "        path = route.path\n",
    "        for i in range(len(path)):\n",
    "            u = path[i]\n",
    "            du = _g.nodes()[u]\n",
    "            x, y = du['x'] + random.random() / 1000, du['y'] + random.random() / 1000\n",
    "            coords[i] = (x, y)\n",
    "            time = sum(data.cargo_graph.edges()[path[j], path[j + 1]]['time'] + data.cargo_graph.nodes()[path[j]]['service_time'] for j in range(i))\n",
    "            \n",
    "            test = f\"\"\"\n",
    "            номер груза:       {path[i][0]}<br>\n",
    "            номер ноды в графе:       {path[i][1]}<br>\n",
    "            порядок посещения:      {i}<br>\n",
    "            время:                  {time:.2f}<br>\n",
    "            время обслуживание:     {data.cargo_graph.nodes()[path[i]]['service_time']:.2f}<br>\n",
    "            \"\"\"\n",
    "            popup = folium.Popup(test, max_width=300, min_width=300)\n",
    "            color = _g.nodes()[path[i]]['color'] if 'color' in _g.nodes()[path[i]] else 'red' if _g.nodes()[path[i]][\n",
    "                                                                                                     'mass'] < 0 else 'blue'\n",
    "            folium.CircleMarker(\n",
    "                location=(x, y),\n",
    "                radius=8,\n",
    "                fill=True,\n",
    "                fill_color=color,\n",
    "                color=color,\n",
    "                fill_opacity=0.7,\n",
    "                popup=popup\n",
    "            ).add_to(points_group)\n",
    "\n",
    "        for i in range(len(path) - 1):\n",
    "            u_x, u_y = coords[i]\n",
    "            v_x, v_y = coords[i + 1]\n",
    "            mass_by_edge = sum(_g.nodes()[path[j]]['mass'] for j in range(i + 1))\n",
    "            volume_by_edge = sum(_g.nodes()[path[j]]['volume'] for j in range(i + 1))\n",
    "\n",
    "            test = f\"\"\"\n",
    "                масса на плече: {mass_by_edge:.2f}<br>\n",
    "                объем на плече: {volume_by_edge:.2f}<br>\n",
    "                длина плеча:    {_g.edges()[path[i], path[i + 1]]['length'] / 1000:.2f} <br>\n",
    "                время:          {_g.edges()[path[i], path[i + 1]]['time']:.2f}\n",
    "            \"\"\"\n",
    "            popup = folium.Popup(test, max_width=300, min_width=300)\n",
    "            folium.PolyLine(\n",
    "                [(u_x, u_y), (v_x, v_y)],\n",
    "                weight=weight,\n",
    "                color='blue',\n",
    "                popup=popup\n",
    "            ).add_to(points_group)\n",
    "    folium.LayerControl().add_to(m)\n",
    "    return m"
   ],
   "metadata": {
    "collapsed": false
   },
   "id": "af8f2ebb8fa6b49",
   "execution_count": null
  },
  {
   "cell_type": "code",
   "outputs": [],
   "source": [
    "m = draw_on_map(result)"
   ],
   "metadata": {
    "collapsed": false
   },
   "id": "3a5ca59f9ef12757",
   "execution_count": null
  },
  {
   "cell_type": "code",
   "outputs": [],
   "source": [
    "m.show_in_browser()"
   ],
   "metadata": {
    "collapsed": false
   },
   "id": "2cdc45e092b1ed01",
   "execution_count": null
  },
  {
   "cell_type": "code",
   "outputs": [],
   "source": [
    "# m.save('map.html')"
   ],
   "metadata": {
    "collapsed": false
   },
   "id": "5ab9513e7372abbe",
   "execution_count": null
  }
 ],
 "metadata": {
  "kernelspec": {
   "display_name": "Python 3",
   "language": "python",
   "name": "python3"
  },
  "language_info": {
   "codemirror_mode": {
    "name": "ipython",
    "version": 2
   },
   "file_extension": ".py",
   "mimetype": "text/x-python",
   "name": "python",
   "nbconvert_exporter": "python",
   "pygments_lexer": "ipython2",
   "version": "2.7.6"
  }
 },
 "nbformat": 4,
 "nbformat_minor": 5
}
