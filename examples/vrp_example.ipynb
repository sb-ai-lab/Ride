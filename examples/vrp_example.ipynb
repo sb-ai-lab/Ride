{
 "cells": [
  {
   "cell_type": "code",
   "execution_count": null,
   "id": "initial_id",
   "metadata": {
    "collapsed": true
   },
   "outputs": [],
   "source": [
    "\n",
    "!poetry install --with ride_vrp"
   ]
  },
  {
   "cell_type": "code",
   "outputs": [],
   "source": [
    "import sys\n",
    "\n",
    "sys.path.append('../')"
   ],
   "metadata": {
    "collapsed": false,
    "ExecuteTime": {
     "end_time": "2025-08-25T09:30:07.174615Z",
     "start_time": "2025-08-25T09:30:07.169590Z"
    }
   },
   "id": "7a4ece6592e85401",
   "execution_count": 1
  },
  {
   "cell_type": "code",
   "outputs": [],
   "source": [
    "import numpy as np\n",
    "\n",
    "from ride_vrp.or_tools.configs import ModelConfig\n",
    "from ride_vrp.data_model import *\n",
    "from ride_vrp.initial_solution.pdptw_solution_builder import PDPTWSolutionBuilder\n",
    "from ride_vrp.managers.pdptw_routing_manager_builder import PDPLiLimRoutingManagerBuilder\n",
    "from ride_vrp.or_tools.callback import LoggingCallback\n",
    "from ride_vrp.or_tools.model import VRPModelFactory\n",
    "from ride_vrp.or_tools.model import VRPSolver\n",
    "from ride_vrp.distances.distances import CoordinateDistanceMatrix"
   ],
   "metadata": {
    "collapsed": false,
    "ExecuteTime": {
     "end_time": "2025-08-25T09:30:07.945735Z",
     "start_time": "2025-08-25T09:30:07.460198Z"
    }
   },
   "id": "304604c4bf143601",
   "execution_count": 2
  },
  {
   "cell_type": "markdown",
   "source": [
    "# Data parser"
   ],
   "metadata": {
    "collapsed": false
   },
   "id": "f5f4527cb1eb52ea"
  },
  {
   "cell_type": "code",
   "outputs": [],
   "source": [
    "def parse_data(path: str) -> tuple[Node, list[Cargo], Tariff]:\n",
    "    id2info = {}\n",
    "    cargos = []\n",
    "\n",
    "    with open(path, 'r') as file:\n",
    "        for i, line in enumerate(file):\n",
    "            line = line.split('\\t')\n",
    "            if i == 0:\n",
    "                tariff = Tariff(\n",
    "                    id='car',\n",
    "                    capacity=np.array([int(line[1])]),\n",
    "                    max_count=100,\n",
    "                    cost_per_distance=[TariffCost(\n",
    "                        min_dst_km=0,\n",
    "                        max_dst_km=10000,\n",
    "                        cost_per_km=1,\n",
    "                        fixed_cost=0\n",
    "                    )]\n",
    "                )\n",
    "            else:\n",
    "                c_id = int(line[0])\n",
    "                x = int(line[1])\n",
    "                y = int(line[2])\n",
    "\n",
    "                mass = int(line[3])\n",
    "\n",
    "                et = int(line[4])\n",
    "                lt = int(line[5])\n",
    "                st = int(line[6])\n",
    "\n",
    "                pick_up = int(line[7])\n",
    "                delivery = int(line[8])\n",
    "                if pick_up == delivery:\n",
    "                    # print(12)\n",
    "                    depo = Node(\n",
    "                        id=0,\n",
    "                        cargo_id=c_id,\n",
    "                        demand=np.zeros([]),\n",
    "                        service_time=0,\n",
    "                        start_time=0,\n",
    "                        end_time=lt,\n",
    "                        coordinates=(x, y)\n",
    "                    )\n",
    "                    continue\n",
    "                if pick_up == 0:\n",
    "                    if c_id not in id2info:\n",
    "                        id2info[c_id] = {}\n",
    "                    id2info[c_id][0] = (x, y, mass, et, lt, st, c_id, delivery)\n",
    "                else:\n",
    "                    delivery = c_id\n",
    "                    c_id = pick_up\n",
    "                    if c_id not in id2info:\n",
    "                        id2info[c_id] = {}\n",
    "                    id2info[c_id][1] = (x, y, mass, et, lt, st, pick_up, delivery)\n",
    "\n",
    "    for k, v in id2info.items():\n",
    "        cargos.append(\n",
    "            Cargo(\n",
    "                id=k,\n",
    "                nodes=[\n",
    "                    Node(\n",
    "                        cargo_id=k,\n",
    "                        id=v[i][6] if i == 0 else v[i][7],\n",
    "                        demand=np.array([v[i][2]]),\n",
    "                        service_time=v[i][5],\n",
    "                        start_time=v[i][3],\n",
    "                        end_time=v[i][4],\n",
    "                        coordinates=(v[i][0], v[i][1])\n",
    "                    )\n",
    "                    for i in range(2)\n",
    "                ]\n",
    "            )\n",
    "        )\n",
    "\n",
    "    return depo, cargos, tariff"
   ],
   "metadata": {
    "collapsed": false,
    "ExecuteTime": {
     "end_time": "2025-08-25T09:30:07.962527Z",
     "start_time": "2025-08-25T09:30:07.948164Z"
    }
   },
   "id": "df88053237bd47c8",
   "execution_count": 3
  },
  {
   "cell_type": "code",
   "outputs": [],
   "source": [
    "depo, cargos, tariff = parse_data(f'../data/Li & Lim benchmark/pdp_100/lc101.txt')"
   ],
   "metadata": {
    "collapsed": false,
    "ExecuteTime": {
     "end_time": "2025-08-25T09:30:07.972641Z",
     "start_time": "2025-08-25T09:30:07.964434Z"
    }
   },
   "id": "d3251f3d8b859077",
   "execution_count": 4
  },
  {
   "cell_type": "markdown",
   "source": [
    "# Calculate all distances"
   ],
   "metadata": {
    "collapsed": false
   },
   "id": "14e1bf321394842b"
  },
  {
   "cell_type": "code",
   "outputs": [],
   "source": [
    "nodes = [n for c in cargos for n in c.nodes] + [depo]\n",
    "dst_mat = CoordinateDistanceMatrix(nodes=nodes)"
   ],
   "metadata": {
    "collapsed": false,
    "ExecuteTime": {
     "end_time": "2025-08-25T09:30:08.634737Z",
     "start_time": "2025-08-25T09:30:08.603500Z"
    }
   },
   "id": "d4a02dc136956550",
   "execution_count": 5
  },
  {
   "cell_type": "code",
   "outputs": [],
   "source": [
    "routing_manager = PDPLiLimRoutingManagerBuilder(\n",
    "    distance_matrix=dst_mat\n",
    ").with_tariffs(tariff).with_cargos(cargos).with_depo(depo).build()"
   ],
   "metadata": {
    "collapsed": false,
    "ExecuteTime": {
     "end_time": "2025-08-25T09:30:08.838282Z",
     "start_time": "2025-08-25T09:30:08.795777Z"
    }
   },
   "id": "fdebf5806c23896d",
   "execution_count": 6
  },
  {
   "cell_type": "code",
   "outputs": [],
   "source": [
    "model_factory = VRPModelFactory.get_pdptw_model_factory(routing_manager)"
   ],
   "metadata": {
    "collapsed": false,
    "ExecuteTime": {
     "end_time": "2025-08-25T09:30:08.979500Z",
     "start_time": "2025-08-25T09:30:08.976175Z"
    }
   },
   "id": "8483911c167c39f4",
   "execution_count": 7
  },
  {
   "cell_type": "code",
   "outputs": [],
   "source": [
    "callback = LoggingCallback()"
   ],
   "metadata": {
    "collapsed": false,
    "ExecuteTime": {
     "end_time": "2025-08-25T09:30:09.163896Z",
     "start_time": "2025-08-25T09:30:09.161097Z"
    }
   },
   "id": "8f20b8bfa2e92694",
   "execution_count": 8
  },
  {
   "cell_type": "code",
   "outputs": [],
   "source": [
    "initial_solution_builder = PDPTWSolutionBuilder(\n",
    "    solver=VRPSolver(\n",
    "        model_config=ModelConfig(max_execution_time_minutes=1, max_solution_number=50),\n",
    "        callback=callback\n",
    "    ),\n",
    "    model_factory=model_factory\n",
    ")"
   ],
   "metadata": {
    "collapsed": false,
    "ExecuteTime": {
     "end_time": "2025-08-25T09:30:09.353802Z",
     "start_time": "2025-08-25T09:30:09.350775Z"
    }
   },
   "id": "3e8a81e20da2619a",
   "execution_count": 9
  },
  {
   "cell_type": "code",
   "outputs": [],
   "source": [
    "solver = VRPSolver(\n",
    "    model_config=ModelConfig(max_execution_time_minutes=1),\n",
    "    initial_solution_builder=initial_solution_builder,\n",
    "    callback=callback\n",
    ")"
   ],
   "metadata": {
    "collapsed": false,
    "ExecuteTime": {
     "end_time": "2025-08-25T09:30:09.578787Z",
     "start_time": "2025-08-25T09:30:09.566971Z"
    }
   },
   "id": "5274d4c680ffe7d5",
   "execution_count": 10
  },
  {
   "cell_type": "code",
   "outputs": [],
   "source": [
    "import logging\n",
    "import sys\n",
    "\n",
    "root = logging.getLogger()\n",
    "root.setLevel(logging.INFO)\n",
    "\n",
    "handler = logging.StreamHandler(sys.stdout)\n",
    "handler.setLevel(logging.INFO)\n",
    "formatter = logging.Formatter('%(asctime)s - %(name)s [%(levelname)s] - %(message)s')\n",
    "handler.setFormatter(formatter)\n"
   ],
   "metadata": {
    "collapsed": false,
    "ExecuteTime": {
     "end_time": "2025-08-25T09:30:09.752990Z",
     "start_time": "2025-08-25T09:30:09.749011Z"
    }
   },
   "id": "b23ad453c02b57e8",
   "execution_count": 11
  },
  {
   "cell_type": "code",
   "outputs": [],
   "source": [
    "sol = solver.solve(\n",
    "    model_factory.build_model(routing_manager)\n",
    ")"
   ],
   "metadata": {
    "collapsed": false,
    "ExecuteTime": {
     "end_time": "2025-08-25T09:30:11.444330Z",
     "start_time": "2025-08-25T09:30:09.993260Z"
    }
   },
   "id": "c4a991719dc42f93",
   "execution_count": 12
  },
  {
   "cell_type": "code",
   "outputs": [
    {
     "data": {
      "text/plain": "10"
     },
     "execution_count": 13,
     "metadata": {},
     "output_type": "execute_result"
    }
   ],
   "source": [
    "len([s for s in sol if len(s)])"
   ],
   "metadata": {
    "collapsed": false,
    "ExecuteTime": {
     "end_time": "2025-08-25T09:30:11.452447Z",
     "start_time": "2025-08-25T09:30:11.445790Z"
    }
   },
   "id": "724070a8c4e6db86",
   "execution_count": 13
  },
  {
   "cell_type": "code",
   "outputs": [],
   "source": [],
   "metadata": {
    "collapsed": false
   },
   "id": "e7c5cb555afdca6c"
  }
 ],
 "metadata": {
  "kernelspec": {
   "display_name": "Python 3",
   "language": "python",
   "name": "python3"
  },
  "language_info": {
   "codemirror_mode": {
    "name": "ipython",
    "version": 2
   },
   "file_extension": ".py",
   "mimetype": "text/x-python",
   "name": "python",
   "nbconvert_exporter": "python",
   "pygments_lexer": "ipython2",
   "version": "2.7.6"
  }
 },
 "nbformat": 4,
 "nbformat_minor": 5
}
