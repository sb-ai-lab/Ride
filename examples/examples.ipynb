{
 "cells": [
  {
   "cell_type": "markdown",
   "metadata": {},
   "source": [
    "### Import"
   ]
  },
  {
   "cell_type": "code",
   "execution_count": 1,
   "metadata": {
    "collapsed": false,
    "ExecuteTime": {
     "end_time": "2025-01-13T11:05:14.146744Z",
     "start_time": "2025-01-13T11:05:12.669064Z"
    }
   },
   "outputs": [],
   "source": [
    "import sys\n",
    "\n",
    "sys.path.append('../')\n",
    "sys.path.append('../ride/')\n",
    "\n",
    "from ride import graph_osm_loader, centroids_graph_builder\n",
    "import ride.path_finding as pfa \n",
    "import ride.clustering as cls\n",
    "import ride.drawer as dw"
   ]
  },
  {
   "cell_type": "markdown",
   "metadata": {},
   "source": [
    "### Graph download"
   ]
  },
  {
   "cell_type": "code",
   "execution_count": 2,
   "metadata": {
    "ExecuteTime": {
     "end_time": "2025-01-13T11:05:14.190200Z",
     "start_time": "2025-01-13T11:05:14.148766Z"
    }
   },
   "outputs": [],
   "source": [
    "id = graph_osm_loader.osm_cities_example['Paris']\n",
    "g = graph_osm_loader.get_graph(id)"
   ]
  },
  {
   "cell_type": "markdown",
   "source": [
    "### Extraction Path Finding"
   ],
   "metadata": {
    "collapsed": false
   }
  },
  {
   "cell_type": "code",
   "outputs": [
    {
     "data": {
      "text/plain": "find centroids:   0%|          | 0/73 [00:00<?, ?it/s]",
      "application/vnd.jupyter.widget-view+json": {
       "version_major": 2,
       "version_minor": 0,
       "model_id": "fd5e0e8e6eb34e60ba701f0c16609230"
      }
     },
     "metadata": {},
     "output_type": "display_data"
    },
    {
     "data": {
      "text/plain": "find edges:   0%|          | 0/73 [00:00<?, ?it/s]",
      "application/vnd.jupyter.widget-view+json": {
       "version_major": 2,
       "version_minor": 0,
       "model_id": "53946cc65523425a90dc68af654f3ca9"
      }
     },
     "metadata": {},
     "output_type": "display_data"
    },
    {
     "data": {
      "text/plain": "(14.307902336120605, 73)"
     },
     "execution_count": 4,
     "metadata": {},
     "output_type": "execute_result"
    }
   ],
   "source": [
    "cms_resolver = cls.LouvainCommunityResolver(resolution=1)\n",
    "\n",
    "t, cg = centroids_graph_builder.CentroidGraphBuilder().build_with_time(g, cms_resolver, iterations=1)\n",
    "t, len(cg.cms)"
   ],
   "metadata": {
    "collapsed": false,
    "ExecuteTime": {
     "end_time": "2025-01-13T11:06:13.708116Z",
     "start_time": "2025-01-13T11:05:59.395643Z"
    }
   },
   "execution_count": 4
  },
  {
   "cell_type": "code",
   "outputs": [],
   "source": [
    "baseline = pfa.Dijkstra(g)"
   ],
   "metadata": {
    "collapsed": false,
    "ExecuteTime": {
     "end_time": "2025-01-13T11:06:52.740752Z",
     "start_time": "2025-01-13T11:06:52.736271Z"
    }
   },
   "execution_count": 7
  },
  {
   "cell_type": "code",
   "execution_count": null,
   "metadata": {},
   "outputs": [],
   "source": [
    "test_alg = pfa.ExtractionPfa(\n",
    "    g = g,\n",
    "    upper=pfa.Dijkstra(cg.g),\n",
    "    down=pfa.Dijkstra(g),\n",
    "    cluster='cluster'\n",
    ")"
   ]
  },
  {
   "cell_type": "code",
   "outputs": [
    {
     "data": {
      "text/plain": "(1749.3775864866102, 1749.3775864866102)"
     },
     "execution_count": 9,
     "metadata": {},
     "output_type": "execute_result"
    }
   ],
   "source": [
    "nodes = list(g.nodes())\n",
    "s,t = nodes[0], nodes[1]\n",
    "\n",
    "l,p = baseline.find_path(s,t)\n",
    "extraction_l, extraction_p = test_alg.find_path(s,t)\n",
    "l, extraction_l"
   ],
   "metadata": {
    "collapsed": false,
    "ExecuteTime": {
     "end_time": "2025-01-13T11:06:57.572595Z",
     "start_time": "2025-01-13T11:06:57.559332Z"
    }
   },
   "execution_count": 9
  },
  {
   "cell_type": "code",
   "outputs": [],
   "source": [
    "m = dw.draw_graph(g)\n",
    "m = dw.draw_path(g, p, m=m)\n",
    "m = dw.draw_path(g, extraction_p, m=m, color='green')"
   ],
   "metadata": {
    "collapsed": false
   },
   "execution_count": null
  },
  {
   "cell_type": "code",
   "outputs": [
    {
     "name": "stdout",
     "output_type": "stream",
     "text": [
      "Your map should have been opened in your browser automatically.\n",
      "Press ctrl+c to return.\n"
     ]
    }
   ],
   "source": [
    "m.show_in_browser()"
   ],
   "metadata": {
    "collapsed": false,
    "ExecuteTime": {
     "end_time": "2025-01-13T11:02:43.924539Z",
     "start_time": "2025-01-13T11:01:48.988805Z"
    }
   },
   "execution_count": 8
  },
  {
   "cell_type": "markdown",
   "metadata": {},
   "source": [
    "### Heuristic Path Finding"
   ]
  },
  {
   "cell_type": "code",
   "execution_count": 5,
   "metadata": {
    "ExecuteTime": {
     "end_time": "2025-01-13T11:06:16.061511Z",
     "start_time": "2025-01-13T11:06:13.710365Z"
    }
   },
   "outputs": [
    {
     "data": {
      "text/plain": "  0%|          | 0/2 [00:00<?, ?it/s]",
      "application/vnd.jupyter.widget-view+json": {
       "version_major": 2,
       "version_minor": 0,
       "model_id": "0645ccf8d7bc4c518af0b8b1c92c342c"
      }
     },
     "metadata": {},
     "output_type": "display_data"
    }
   ],
   "source": [
    "test_alg = pfa.MinClusterDistanceBuilder(\n",
    "    workers=2\n",
    ").build_astar(g, cms_resolver)"
   ]
  },
  {
   "cell_type": "code",
   "outputs": [
    {
     "data": {
      "text/plain": "(1749.3775864866102, 1749.3775864866102)"
     },
     "execution_count": 10,
     "metadata": {},
     "output_type": "execute_result"
    }
   ],
   "source": [
    "l,p = baseline.find_path(s,t)\n",
    "heuristic_l, heuristic_p = test_alg.find_path(s,t)\n",
    "l, heuristic_l"
   ],
   "metadata": {
    "collapsed": false,
    "ExecuteTime": {
     "end_time": "2025-01-13T11:07:03.935538Z",
     "start_time": "2025-01-13T11:07:03.925547Z"
    }
   },
   "execution_count": 10
  }
 ],
 "metadata": {
  "kernelspec": {
   "display_name": "Python 3 (ipykernel)",
   "language": "python",
   "name": "python3"
  },
  "language_info": {
   "codemirror_mode": {
    "name": "ipython",
    "version": 3
   },
   "file_extension": ".py",
   "mimetype": "text/x-python",
   "name": "python",
   "nbconvert_exporter": "python",
   "pygments_lexer": "ipython3",
   "version": "3.10.9"
  }
 },
 "nbformat": 4,
 "nbformat_minor": 4
}
