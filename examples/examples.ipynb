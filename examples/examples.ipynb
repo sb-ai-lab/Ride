{
 "cells": [
  {
   "cell_type": "markdown",
   "metadata": {},
   "source": [
    "### Import"
   ]
  },
  {
   "cell_type": "code",
   "execution_count": null,
   "metadata": {
    "collapsed": false
   },
   "outputs": [],
   "source": [
    "import sys\n",
    "\n",
    "sys.path.append('../')\n",
    "sys.path.append('../ride/')\n",
    "\n",
    "from ride_pfa import graph_osm_loader\n",
    "import ride_pfa.centroid_graph.centroids_graph_builder as cgb\n",
    "import ride_pfa.path_finding as pfa \n",
    "import ride_pfa.clustering as cls\n",
    "import ride_pfa.drawer as dw"
   ]
  },
  {
   "cell_type": "markdown",
   "metadata": {},
   "source": [
    "### Graph download"
   ]
  },
  {
   "cell_type": "code",
   "execution_count": null,
   "metadata": {},
   "outputs": [],
   "source": [
    "id = graph_osm_loader.osm_cities_example['Paris']\n",
    "g = graph_osm_loader.get_graph(id)"
   ]
  },
  {
   "cell_type": "markdown",
   "source": [
    "### Extraction Path Finding"
   ],
   "metadata": {
    "collapsed": false
   }
  },
  {
   "cell_type": "code",
   "outputs": [],
   "source": [
    "cms_resolver = cls.LouvainCommunityResolver(resolution=1)\n",
    "\n",
    "t, cg = cgb.CentroidGraphBuilder().build_with_time(g, cms_resolver, iterations=1)\n",
    "t, len(cg.cms)"
   ],
   "metadata": {
    "collapsed": false
   },
   "execution_count": null
  },
  {
   "cell_type": "code",
   "outputs": [],
   "source": [
    "baseline = pfa.Dijkstra(g)"
   ],
   "metadata": {
    "collapsed": false
   },
   "execution_count": null
  },
  {
   "cell_type": "code",
   "execution_count": null,
   "metadata": {},
   "outputs": [],
   "source": [
    "test_alg = pfa.ExtractionPfa(\n",
    "    g = g,\n",
    "    upper=pfa.Dijkstra(cg.g),\n",
    "    down=pfa.Dijkstra(g),\n",
    "    cluster='cluster'\n",
    ")"
   ]
  },
  {
   "cell_type": "code",
   "outputs": [],
   "source": [
    "nodes = list(g.nodes())\n",
    "s,t = nodes[0], nodes[1]\n",
    "\n",
    "l,p = baseline.find_path(s,t)\n",
    "extraction_l, extraction_p = test_alg.find_path(s,t)\n",
    "l, extraction_l"
   ],
   "metadata": {
    "collapsed": false
   },
   "execution_count": null
  },
  {
   "cell_type": "code",
   "outputs": [],
   "source": [
    "m = dw.draw_graph(g)\n",
    "m = dw.draw_path(g, p, m=m)\n",
    "m = dw.draw_path(g, extraction_p, m=m, color='green')"
   ],
   "metadata": {
    "collapsed": false
   },
   "execution_count": null
  },
  {
   "cell_type": "code",
   "outputs": [],
   "source": [
    "m.show_in_browser()"
   ],
   "metadata": {
    "collapsed": false
   },
   "execution_count": null
  },
  {
   "cell_type": "markdown",
   "metadata": {},
   "source": [
    "### Heuristic Path Finding"
   ]
  },
  {
   "cell_type": "code",
   "execution_count": null,
   "metadata": {},
   "outputs": [],
   "source": [
    "test_alg = pfa.MinClusterDistanceBuilder(\n",
    "    workers=2\n",
    ").build_astar(g, cms_resolver)"
   ]
  },
  {
   "cell_type": "code",
   "outputs": [],
   "source": [
    "l,p = baseline.find_path(s,t)\n",
    "heuristic_l, heuristic_p = test_alg.find_path(s,t)\n",
    "l, heuristic_l"
   ],
   "metadata": {
    "collapsed": false
   },
   "execution_count": null
  }
 ],
 "metadata": {
  "kernelspec": {
   "display_name": "Python 3 (ipykernel)",
   "language": "python",
   "name": "python3"
  },
  "language_info": {
   "codemirror_mode": {
    "name": "ipython",
    "version": 3
   },
   "file_extension": ".py",
   "mimetype": "text/x-python",
   "name": "python",
   "nbconvert_exporter": "python",
   "pygments_lexer": "ipython3",
   "version": "3.10.9"
  }
 },
 "nbformat": 4,
 "nbformat_minor": 4
}
