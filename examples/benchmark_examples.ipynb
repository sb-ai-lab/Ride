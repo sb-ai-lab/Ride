{
 "cells": [
  {
   "cell_type": "markdown",
   "metadata": {},
   "source": [
    "### Import"
   ]
  },
  {
   "cell_type": "code",
   "execution_count": 1,
   "metadata": {
    "collapsed": false,
    "ExecuteTime": {
     "end_time": "2025-06-24T07:45:51.297596Z",
     "start_time": "2025-06-24T07:45:49.353121Z"
    }
   },
   "outputs": [],
   "source": [
    "import sys\n",
    "\n",
    "sys.path.append('../')\n",
    "sys.path.append('../ride/')\n",
    "\n",
    "from ride_pfa import graph_osm_loader\n",
    "import ride_pfa.centroid_graph.centroids_graph_builder as cgb\n",
    "import ride_pfa.path_finding as pfa \n",
    "import ride_pfa.clustering as cls\n",
    "import ride_pfa.utils as utils\n",
    "import ride_pfa.benchmark as bench\n",
    "from ride_pfa.centroid_graph import CentroidGraph"
   ]
  },
  {
   "cell_type": "markdown",
   "metadata": {},
   "source": [
    "### Graph download"
   ]
  },
  {
   "cell_type": "code",
   "execution_count": 2,
   "metadata": {
    "ExecuteTime": {
     "end_time": "2025-06-24T07:46:06.154058Z",
     "start_time": "2025-06-24T07:45:51.299583Z"
    }
   },
   "outputs": [],
   "source": [
    "id = graph_osm_loader.osm_cities_example['Paris']\n",
    "g = graph_osm_loader.get_graph(id)"
   ]
  },
  {
   "cell_type": "markdown",
   "metadata": {
    "collapsed": false
   },
   "source": [
    "### Extraction Path Finding"
   ]
  },
  {
   "cell_type": "code",
   "outputs": [
    {
     "data": {
      "text/plain": "'inverse'"
     },
     "execution_count": 3,
     "metadata": {},
     "output_type": "execute_result"
    }
   ],
   "source": [
    "# To decrease error in pathfinding better to use inverse weight in Louvain \n",
    "utils.add_inverse_edges_weight(g, weight='length', inverse_weight='inverse')"
   ],
   "metadata": {
    "collapsed": false,
    "ExecuteTime": {
     "end_time": "2025-06-24T07:46:06.181955Z",
     "start_time": "2025-06-24T07:46:06.155284Z"
    }
   },
   "execution_count": 3
  },
  {
   "cell_type": "code",
   "execution_count": 4,
   "metadata": {
    "collapsed": false,
    "ExecuteTime": {
     "end_time": "2025-06-24T07:47:03.880753Z",
     "start_time": "2025-06-24T07:46:06.183865Z"
    }
   },
   "outputs": [
    {
     "data": {
      "text/plain": "find centroids:   0%|          | 0/105 [00:00<?, ?it/s]",
      "application/vnd.jupyter.widget-view+json": {
       "version_major": 2,
       "version_minor": 0,
       "model_id": "05c2d2e308c643dbad99674c755d074a"
      }
     },
     "metadata": {},
     "output_type": "display_data"
    },
    {
     "data": {
      "text/plain": "find edges:   0%|          | 0/105 [00:00<?, ?it/s]",
      "application/vnd.jupyter.widget-view+json": {
       "version_major": 2,
       "version_minor": 0,
       "model_id": "bf460ce8131e484d82163ec236da025a"
      }
     },
     "metadata": {},
     "output_type": "display_data"
    },
    {
     "data": {
      "text/plain": "(57.68914866447449, 105)"
     },
     "execution_count": 4,
     "metadata": {},
     "output_type": "execute_result"
    }
   ],
   "source": [
    "cms_resolver = cls.LouvainKMeansCommunityResolver(resolution=1, weight='inverse', k_means_weight='length')\n",
    "cg_builder = cgb.CentroidGraphBuilder()\n",
    "\n",
    "def build_and_get_time() -> tuple[float, CentroidGraph]:\n",
    "    return utils.get_execution_time(lambda: cg_builder.build(g, cms_resolver), iterations=1)\n",
    "\n",
    "t, cg = build_and_get_time()\n",
    "t, len(cg.cms)"
   ]
  },
  {
   "cell_type": "code",
   "execution_count": 5,
   "metadata": {
    "collapsed": false,
    "ExecuteTime": {
     "end_time": "2025-06-24T07:47:08.785430Z",
     "start_time": "2025-06-24T07:47:08.779428Z"
    }
   },
   "outputs": [],
   "source": [
    "baseline = pfa.Dijkstra(g)"
   ]
  },
  {
   "cell_type": "code",
   "execution_count": 6,
   "metadata": {
    "ExecuteTime": {
     "end_time": "2025-06-24T07:47:08.995169Z",
     "start_time": "2025-06-24T07:47:08.987398Z"
    }
   },
   "outputs": [],
   "source": [
    "test_alg = pfa.ExtractionPfa(\n",
    "    g = g,\n",
    "    upper=pfa.Dijkstra(cg.g),\n",
    "    down=pfa.Dijkstra(g),\n",
    "    cluster='cluster'\n",
    ")"
   ]
  },
  {
   "cell_type": "code",
   "outputs": [],
   "source": [
    "points = utils.generate_points(g, num=100)"
   ],
   "metadata": {
    "collapsed": false,
    "ExecuteTime": {
     "end_time": "2025-06-24T07:47:09.626274Z",
     "start_time": "2025-06-24T07:47:09.605919Z"
    }
   },
   "execution_count": 7
  },
  {
   "cell_type": "code",
   "outputs": [
    {
     "name": "stdout",
     "output_type": "stream",
     "text": [
      "start 0\n"
     ]
    },
    {
     "data": {
      "text/plain": "find paths:   0%|          | 0/25 [00:00<?, ?it/s]",
      "application/vnd.jupyter.widget-view+json": {
       "version_major": 2,
       "version_minor": 0,
       "model_id": "3e5ba68cfe8f408189695461eadbc121"
      }
     },
     "metadata": {},
     "output_type": "display_data"
    },
    {
     "name": "stdout",
     "output_type": "stream",
     "text": [
      "start 1\n"
     ]
    },
    {
     "data": {
      "text/plain": "find paths:   0%|          | 0/25 [00:00<?, ?it/s]",
      "application/vnd.jupyter.widget-view+json": {
       "version_major": 2,
       "version_minor": 0,
       "model_id": "b2f75f66d6324e8484a32f33dbc7a6ad"
      }
     },
     "metadata": {},
     "output_type": "display_data"
    },
    {
     "name": "stdout",
     "output_type": "stream",
     "text": [
      "start 2\n"
     ]
    },
    {
     "data": {
      "text/plain": "find paths:   0%|          | 0/25 [00:00<?, ?it/s]",
      "application/vnd.jupyter.widget-view+json": {
       "version_major": 2,
       "version_minor": 0,
       "model_id": "34260670c7d64ae3b20ea03031fc734f"
      }
     },
     "metadata": {},
     "output_type": "display_data"
    },
    {
     "name": "stdout",
     "output_type": "stream",
     "text": [
      "start 3\n"
     ]
    },
    {
     "data": {
      "text/plain": "find paths:   0%|          | 0/25 [00:00<?, ?it/s]",
      "application/vnd.jupyter.widget-view+json": {
       "version_major": 2,
       "version_minor": 0,
       "model_id": "8ca5f0e1356d49d9bc124efdbc44e5df"
      }
     },
     "metadata": {},
     "output_type": "display_data"
    }
   ],
   "source": [
    "stat = bench.PfaComparator(\n",
    "    baseline=baseline,\n",
    "    test_algorithm=test_alg,\n",
    "    points=points,\n",
    "    workers=4\n",
    ").compare()"
   ],
   "metadata": {
    "collapsed": false,
    "ExecuteTime": {
     "end_time": "2025-06-24T07:47:14.555683Z",
     "start_time": "2025-06-24T07:47:10.156640Z"
    }
   },
   "execution_count": 8
  },
  {
   "cell_type": "code",
   "outputs": [
    {
     "data": {
      "text/plain": "\n        err_max:    51.9194\n        err_min:    0.0000\n        err_median: 4.7511\n        err_mean:   6.1828\n\n        acceleration_max:    16.9445\n        acceleration_min:    0.7046\n        acceleration_median: 6.3546\n        acceleration_mean:   6.8154\n        "
     },
     "execution_count": 9,
     "metadata": {},
     "output_type": "execute_result"
    }
   ],
   "source": [
    "stat"
   ],
   "metadata": {
    "collapsed": false,
    "ExecuteTime": {
     "end_time": "2025-06-24T07:47:14.564682Z",
     "start_time": "2025-06-24T07:47:14.557839Z"
    }
   },
   "execution_count": 9
  },
  {
   "cell_type": "code",
   "outputs": [],
   "source": [],
   "metadata": {
    "collapsed": false
   }
  }
 ],
 "metadata": {
  "kernelspec": {
   "display_name": "operations_research",
   "language": "python",
   "name": "python3"
  },
  "language_info": {
   "codemirror_mode": {
    "name": "ipython",
    "version": 3
   },
   "file_extension": ".py",
   "mimetype": "text/x-python",
   "name": "python",
   "nbconvert_exporter": "python",
   "pygments_lexer": "ipython3",
   "version": "3.11.4"
  }
 },
 "nbformat": 4,
 "nbformat_minor": 4
}
