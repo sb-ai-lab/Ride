{
 "cells": [
  {
   "cell_type": "markdown",
   "metadata": {},
   "source": [
    "### Import"
   ]
  },
  {
   "cell_type": "code",
   "execution_count": 28,
   "metadata": {
    "collapsed": false,
    "ExecuteTime": {
     "end_time": "2025-08-19T09:31:22.930998Z",
     "start_time": "2025-08-19T09:31:22.914644Z"
    }
   },
   "outputs": [],
   "source": [
    "import sys\n",
    "\n",
    "sys.path.append('../')\n",
    "sys.path.append('../ride/')\n",
    "\n",
    "from ride_pfa import graph_osm_loader\n",
    "import ride_pfa.centroid_graph.centroids_graph_builder as cgb\n",
    "import ride_pfa.path_finding as pfa \n",
    "import ride_pfa.clustering as cls\n",
    "import ride_pfa.utils as utils\n",
    "import ride_pfa.benchmark as bench\n",
    "from ride_pfa.centroid_graph import CentroidGraph"
   ]
  },
  {
   "cell_type": "markdown",
   "metadata": {},
   "source": [
    "### Graph download"
   ]
  },
  {
   "cell_type": "code",
   "execution_count": 29,
   "metadata": {
    "ExecuteTime": {
     "end_time": "2025-08-19T09:31:24.111067Z",
     "start_time": "2025-08-19T09:31:24.102474Z"
    }
   },
   "outputs": [],
   "source": [
    "id = 'R13470549'\n",
    "g = graph_osm_loader.get_graph(id, cache_path='./cache/')"
   ]
  },
  {
   "cell_type": "markdown",
   "metadata": {
    "collapsed": false
   },
   "source": [
    "\\### Extraction Path Finding"
   ]
  },
  {
   "cell_type": "code",
   "outputs": [
    {
     "data": {
      "text/plain": "'inverse'"
     },
     "execution_count": 30,
     "metadata": {},
     "output_type": "execute_result"
    }
   ],
   "source": [
    "# To decrease error in pathfinding better to use inverse weight in Louvain \n",
    "utils.add_inverse_edges_weight(g, weight='length', inverse_weight='inverse')"
   ],
   "metadata": {
    "collapsed": false,
    "ExecuteTime": {
     "end_time": "2025-08-19T09:31:25.319238Z",
     "start_time": "2025-08-19T09:31:25.311512Z"
    }
   },
   "execution_count": 30
  },
  {
   "cell_type": "code",
   "execution_count": 31,
   "metadata": {
    "collapsed": false,
    "ExecuteTime": {
     "end_time": "2025-08-19T09:31:28.175971Z",
     "start_time": "2025-08-19T09:31:25.824332Z"
    }
   },
   "outputs": [
    {
     "data": {
      "text/plain": "k_means iterations:   0%|          | 0/20 [00:00<?, ?it/s]",
      "application/vnd.jupyter.widget-view+json": {
       "version_major": 2,
       "version_minor": 0,
       "model_id": "9157aabb4fe643ddbb5c8de9b57c090e"
      }
     },
     "metadata": {},
     "output_type": "display_data"
    },
    {
     "data": {
      "text/plain": "find centroids:   0%|          | 0/26 [00:00<?, ?it/s]",
      "application/vnd.jupyter.widget-view+json": {
       "version_major": 2,
       "version_minor": 0,
       "model_id": "f381e7e816744c4bbf314078aee63516"
      }
     },
     "metadata": {},
     "output_type": "display_data"
    },
    {
     "data": {
      "text/plain": "find edges:   0%|          | 0/26 [00:00<?, ?it/s]",
      "application/vnd.jupyter.widget-view+json": {
       "version_major": 2,
       "version_minor": 0,
       "model_id": "a51cc7151b27476eaf60a9fcd9635c83"
      }
     },
     "metadata": {},
     "output_type": "display_data"
    },
    {
     "data": {
      "text/plain": "(2.341796398162842, 26)"
     },
     "execution_count": 31,
     "metadata": {},
     "output_type": "execute_result"
    }
   ],
   "source": [
    "cms_resolver = cls.LouvainKMeansCommunityResolver(resolution=1, weight='inverse', k_means_weight='length', tqdm_progress_bar = True)\n",
    "cg_builder = cgb.CentroidGraphBuilder()\n",
    "\n",
    "def build_and_get_time() -> tuple[float, CentroidGraph]:\n",
    "    return utils.get_execution_time(lambda: cg_builder.build(g, cms_resolver), iterations=1)\n",
    "\n",
    "t, cg = build_and_get_time()\n",
    "t, len(cg.cms)"
   ]
  },
  {
   "cell_type": "code",
   "execution_count": 32,
   "metadata": {
    "collapsed": false,
    "ExecuteTime": {
     "end_time": "2025-08-19T09:31:29.086845Z",
     "start_time": "2025-08-19T09:31:29.080864Z"
    }
   },
   "outputs": [],
   "source": [
    "baseline = pfa.Dijkstra(g)"
   ]
  },
  {
   "cell_type": "code",
   "execution_count": 33,
   "metadata": {
    "ExecuteTime": {
     "end_time": "2025-08-19T09:31:29.560201Z",
     "start_time": "2025-08-19T09:31:29.554619Z"
    }
   },
   "outputs": [],
   "source": [
    "test_alg = pfa.ExtractionPfa(\n",
    "    g = g,\n",
    "    upper=pfa.Dijkstra(cg.g),\n",
    "    down=pfa.Dijkstra(g),\n",
    "    cluster='cluster'\n",
    ")"
   ]
  },
  {
   "cell_type": "code",
   "outputs": [],
   "source": [
    "points = utils.generate_points(g, num=100)"
   ],
   "metadata": {
    "collapsed": false,
    "ExecuteTime": {
     "end_time": "2025-08-19T09:23:36.124746Z",
     "start_time": "2025-08-19T09:23:36.119015Z"
    }
   },
   "execution_count": 25
  },
  {
   "cell_type": "code",
   "outputs": [],
   "source": [
    "stat = bench.PfaComparator(\n",
    "    baseline=baseline,\n",
    "    test_algorithm=test_alg,\n",
    "    points=points,\n",
    "    workers=4,\n",
    "    with_tqdm_log = True\n",
    ").compare()"
   ],
   "metadata": {
    "collapsed": false,
    "ExecuteTime": {
     "end_time": "2025-08-19T09:23:36.809881Z",
     "start_time": "2025-08-19T09:23:36.253161Z"
    }
   },
   "execution_count": 26
  },
  {
   "cell_type": "code",
   "outputs": [
    {
     "data": {
      "text/plain": "\n        err_max:    18.8231\n        err_min:    0.0000\n        err_median: 0.0000\n        err_mean:   1.2900\n\n        acceleration_max:    6.2156\n        acceleration_min:    0.4652\n        acceleration_median: 1.9199\n        acceleration_mean:   2.0503\n        "
     },
     "execution_count": 27,
     "metadata": {},
     "output_type": "execute_result"
    }
   ],
   "source": [
    "stat"
   ],
   "metadata": {
    "collapsed": false,
    "ExecuteTime": {
     "end_time": "2025-08-19T09:23:36.820224Z",
     "start_time": "2025-08-19T09:23:36.812624Z"
    }
   },
   "execution_count": 27
  },
  {
   "cell_type": "code",
   "outputs": [],
   "source": [],
   "metadata": {
    "collapsed": false
   }
  }
 ],
 "metadata": {
  "kernelspec": {
   "display_name": "operations_research",
   "language": "python",
   "name": "python3"
  },
  "language_info": {
   "codemirror_mode": {
    "name": "ipython",
    "version": 3
   },
   "file_extension": ".py",
   "mimetype": "text/x-python",
   "name": "python",
   "nbconvert_exporter": "python",
   "pygments_lexer": "ipython3",
   "version": "3.11.4"
  }
 },
 "nbformat": 4,
 "nbformat_minor": 4
}
